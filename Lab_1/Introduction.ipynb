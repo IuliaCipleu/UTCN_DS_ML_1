{
 "cells": [
  {
   "cell_type": "markdown",
   "id": "d970c360",
   "metadata": {},
   "source": [
    "# Python & NumPy — Problem set"
   ]
  },
  {
   "cell_type": "code",
   "execution_count": 1,
   "id": "4ba5bab2",
   "metadata": {},
   "outputs": [
    {
     "name": "stdout",
     "output_type": "stream",
     "text": [
      "Seed set to 123\n"
     ]
    }
   ],
   "source": [
    "# === Setup (do not modify) ===\n",
    "SEED = 123\n",
    "import random\n",
    "import numpy as np\n",
    "import matplotlib.pyplot as plt\n",
    "\n",
    "random.seed(SEED)\n",
    "np.random.seed(SEED)\n",
    "print(f\"Seed set to {SEED}\")"
   ]
  },
  {
   "cell_type": "markdown",
   "id": "96e31f50",
   "metadata": {},
   "source": [
    "## Section 1 — Python  "
   ]
  },
  {
   "cell_type": "markdown",
   "id": "42305b53",
   "metadata": {},
   "source": [
    "### Problem 1 — Area of a Circle\n",
    "Compute the area of a circle with radius `r = 7`."
   ]
  },
  {
   "cell_type": "code",
   "execution_count": 3,
   "id": "8c7700d8",
   "metadata": {},
   "outputs": [
    {
     "data": {
      "text/plain": [
       "153.93804002589985"
      ]
     },
     "execution_count": 3,
     "metadata": {},
     "output_type": "execute_result"
    }
   ],
   "source": [
    "# === Your Work: Problem 1 ===\n",
    "PI = 3.141592653589793\n",
    "r = 7\n",
    "# Assign to area_circle\n",
    "area_circle = PI * r * r  # TODO: Your code here\n",
    "area_circle"
   ]
  },
  {
   "cell_type": "code",
   "execution_count": 4,
   "id": "a68fd62b",
   "metadata": {},
   "outputs": [
    {
     "name": "stdout",
     "output_type": "stream",
     "text": [
      "✅ Problem 1 passed!\n"
     ]
    }
   ],
   "source": [
    "# === Autograder: Problem 1 ===\n",
    "_expected = 153.93804002589985\n",
    "assert isinstance(area_circle, (int, float)), 'area_circle must be a number'\n",
    "assert abs(area_circle - _expected) < 1e-12, f'Expected {_expected}, got {area_circle}'\n",
    "print('✅ Problem 1 passed!')"
   ]
  },
  {
   "cell_type": "markdown",
   "id": "b0e31f8c",
   "metadata": {},
   "source": [
    "### Problem 2 — String Processing\n",
    "Given `s = \"Hello,World,Python\"`, create a list of the words in **lowercase** and **reversed order** and assign to **`words_rev`**.\n",
    "Expected: `['python', 'world', 'hello']`. Hint: look up `.split()` and `.lower()`"
   ]
  },
  {
   "cell_type": "code",
   "execution_count": 10,
   "id": "076fc693",
   "metadata": {},
   "outputs": [
    {
     "name": "stdout",
     "output_type": "stream",
     "text": [
      "['python', 'world', 'hello']\n"
     ]
    }
   ],
   "source": [
    "# === Your Work: Problem 2 ===\n",
    "s = \"Hello,World,Python\"\n",
    "words_rev = s.lower().split(\",\")[::-1]  # TODO: Your code here\n",
    "words_rev\n",
    "print(words_rev)"
   ]
  },
  {
   "cell_type": "code",
   "execution_count": 11,
   "id": "1db59701",
   "metadata": {},
   "outputs": [
    {
     "name": "stdout",
     "output_type": "stream",
     "text": [
      "✅ Problem 2 passed!\n"
     ]
    }
   ],
   "source": [
    "# === Autograder: Problem 2 ===\n",
    "_expected = ['python', 'world', 'hello']\n",
    "assert isinstance(words_rev, list)\n",
    "assert words_rev == _expected\n",
    "print('✅ Problem 2 passed!')"
   ]
  },
  {
   "cell_type": "markdown",
   "id": "2500d6ad",
   "metadata": {},
   "source": [
    "### Problem 3 — List Comprehension (Odd Squares)\n",
    "Create a list of squares of **odd** numbers from 1 to 20 (inclusive), assigned to **`odd_squares`**."
   ]
  },
  {
   "cell_type": "code",
   "execution_count": 13,
   "id": "e3dbad95",
   "metadata": {},
   "outputs": [
    {
     "data": {
      "text/plain": [
       "[1, 9, 25, 49, 81, 121, 169, 225, 289, 361]"
      ]
     },
     "execution_count": 13,
     "metadata": {},
     "output_type": "execute_result"
    }
   ],
   "source": [
    "# === Your Work: Problem 3 ===\n",
    "nums = list(range(21))\n",
    "odd_squares = [x ** 2 for x in nums if x % 2 == 1]  # TODO: Your code here\n",
    "odd_squares"
   ]
  },
  {
   "cell_type": "code",
   "execution_count": 14,
   "id": "5a38a77f",
   "metadata": {},
   "outputs": [
    {
     "name": "stdout",
     "output_type": "stream",
     "text": [
      "✅ Problem 3 passed!\n"
     ]
    }
   ],
   "source": [
    "# === Autograder: Problem 3 ===\n",
    "_expected = [1, 9, 25, 49, 81, 121, 169, 225, 289, 361]\n",
    "assert isinstance(odd_squares, list)\n",
    "assert odd_squares == _expected\n",
    "print('✅ Problem 3 passed!')"
   ]
  },
  {
   "cell_type": "markdown",
   "id": "b4213301",
   "metadata": {},
   "source": [
    "### Problem 4 — Functions (Fibonacci)\n",
    "Write a function **`fib(n)`** returning the n-th Fibonacci number with `fib(0)=0, fib(1)=1`"
   ]
  },
  {
   "cell_type": "code",
   "execution_count": 15,
   "id": "99e67a3e",
   "metadata": {},
   "outputs": [],
   "source": [
    "# === Your Work: Problem 4 ===\n",
    "def fib(n):\n",
    "    # TODO: Your code here\n",
    "    if n==0:\n",
    "        return 0\n",
    "    elif n==1:\n",
    "        return 1\n",
    "    else:\n",
    "        f = fib(n-1) + fib(n-2)\n",
    "    return f"
   ]
  },
  {
   "cell_type": "code",
   "execution_count": 16,
   "id": "30c1a50a",
   "metadata": {},
   "outputs": [
    {
     "name": "stdout",
     "output_type": "stream",
     "text": [
      "✅ Problem 4 passed!\n"
     ]
    }
   ],
   "source": [
    "# === Autograder: Problem 4 ===\n",
    "assert callable(fib)\n",
    "assert fib(0)==0 and fib(1)==1 and fib(10)==55\n",
    "print('✅ Problem 4 passed!')"
   ]
  },
  {
   "cell_type": "markdown",
   "id": "aabe16a7",
   "metadata": {},
   "source": [
    "### Problem 5 — Dictionary Counting\n",
    "Given `text = \"to be or not to be that is the question\"`, create dict **`word_counts`** mapping each word to its count. Hint: `get()`"
   ]
  },
  {
   "cell_type": "code",
   "execution_count": 18,
   "id": "d6958f95",
   "metadata": {},
   "outputs": [
    {
     "data": {
      "text/plain": [
       "{'to': 2,\n",
       " 'be': 2,\n",
       " 'or': 1,\n",
       " 'not': 1,\n",
       " 'that': 1,\n",
       " 'is': 1,\n",
       " 'the': 1,\n",
       " 'question': 1}"
      ]
     },
     "execution_count": 18,
     "metadata": {},
     "output_type": "execute_result"
    }
   ],
   "source": [
    "# === Your Work: Problem 5 ===\n",
    "text = \"to be or not to be that is the question\"\n",
    "word_counts = {}  # TODO: Your code here\n",
    "for w in text.split():\n",
    "    word_counts[w] = word_counts.get(w, 0) + 1\n",
    "word_counts"
   ]
  },
  {
   "cell_type": "code",
   "execution_count": 19,
   "id": "edd75e38",
   "metadata": {},
   "outputs": [
    {
     "name": "stdout",
     "output_type": "stream",
     "text": [
      "✅ Problem 5 passed!\n"
     ]
    }
   ],
   "source": [
    "# === Autograder: Problem 5 ===\n",
    "_expected = {\"to\": 2, \"be\": 2, \"or\": 1, \"not\": 1, \"that\": 1, \"is\": 1, \"the\": 1, \"question\": 1}\n",
    "assert isinstance(word_counts, dict)\n",
    "assert word_counts == _expected\n",
    "print('✅ Problem 5 passed!')"
   ]
  },
  {
   "cell_type": "markdown",
   "id": "4c976e52",
   "metadata": {},
   "source": [
    "### Problem 6 — Sum of Digits\n",
    "Compute the sum of digits of `n = 987654` and assign to **`sum_digits`**. Hint: Use `str()` to iterate over the letters of a string"
   ]
  },
  {
   "cell_type": "code",
   "execution_count": 23,
   "id": "be44f506",
   "metadata": {},
   "outputs": [
    {
     "data": {
      "text/plain": [
       "39"
      ]
     },
     "execution_count": 23,
     "metadata": {},
     "output_type": "execute_result"
    }
   ],
   "source": [
    "# === Your Work: Problem 6 ===\n",
    "n = 987654\n",
    "s = str(n) \n",
    "sum_digits = sum(int(c) for c in s)  # TODO: Your code here\n",
    "sum_digits"
   ]
  },
  {
   "cell_type": "code",
   "execution_count": 24,
   "id": "4210d739",
   "metadata": {},
   "outputs": [
    {
     "name": "stdout",
     "output_type": "stream",
     "text": [
      "✅ Problem 6 passed!\n"
     ]
    }
   ],
   "source": [
    "# === Autograder: Problem 6 ===\n",
    "_expected = 39\n",
    "assert sum_digits == _expected\n",
    "print('✅ Problem 6 passed!')"
   ]
  },
  {
   "cell_type": "markdown",
   "id": "0c941ed6",
   "metadata": {},
   "source": [
    "### Problem 7 — Palindrome Check\n",
    "Set **`is_pal`** to `True` if `s = \"racecar\"` is a palindrome (exact match), else `False`. Hint: You can use slicing"
   ]
  },
  {
   "cell_type": "code",
   "execution_count": 25,
   "id": "5f7f3611",
   "metadata": {},
   "outputs": [
    {
     "data": {
      "text/plain": [
       "True"
      ]
     },
     "execution_count": 25,
     "metadata": {},
     "output_type": "execute_result"
    }
   ],
   "source": [
    "# === Your Work: Problem 7 ===\n",
    "s = \"racecar\"\n",
    "is_pal = True if s[::-1] == s else False  # TODO: Your code here\n",
    "is_pal"
   ]
  },
  {
   "cell_type": "code",
   "execution_count": 26,
   "id": "faab9d55",
   "metadata": {},
   "outputs": [
    {
     "name": "stdout",
     "output_type": "stream",
     "text": [
      "✅ Problem 7 passed!\n"
     ]
    }
   ],
   "source": [
    "# === Autograder: Problem 7 ===\n",
    "assert isinstance(is_pal, bool)\n",
    "assert is_pal is True\n",
    "print('✅ Problem 7 passed!')"
   ]
  },
  {
   "cell_type": "markdown",
   "id": "c8cc1acc",
   "metadata": {},
   "source": [
    "### Problem 8 — Unique Words (Sorted)\n",
    "From the sentence below, create **`unique_sorted`** — sorted unique words ascending. Hint: check `set` and `sorted`"
   ]
  },
  {
   "cell_type": "code",
   "execution_count": 31,
   "id": "b547bdea",
   "metadata": {},
   "outputs": [
    {
     "data": {
      "text/plain": [
       "['brown', 'dog', 'fox', 'jumps', 'lazy', 'over', 'quick', 'the', 'was']"
      ]
     },
     "execution_count": 31,
     "metadata": {},
     "output_type": "execute_result"
    }
   ],
   "source": [
    "# === Your Work: Problem 8 ===\n",
    "sentence = \"the quick brown fox jumps over the lazy dog the fox was quick\"\n",
    "unique_sorted = sorted(set(sentence.split()))  # TODO: Your code here\n",
    "unique_sorted"
   ]
  },
  {
   "cell_type": "code",
   "execution_count": 32,
   "id": "98fd96ad",
   "metadata": {},
   "outputs": [
    {
     "name": "stdout",
     "output_type": "stream",
     "text": [
      "✅ Problem 8 passed!\n"
     ]
    }
   ],
   "source": [
    "# === Autograder: Problem 8 ===\n",
    "_expected = ['brown', 'dog', 'fox', 'jumps', 'lazy', 'over', 'quick', 'the', 'was']\n",
    "assert unique_sorted == _expected\n",
    "print('✅ Problem 8 passed!')"
   ]
  },
  {
   "cell_type": "markdown",
   "id": "bde49adf",
   "metadata": {},
   "source": [
    "### Problem 9 — Merge Dicts (Sum Overlaps)\n",
    "Merge `d1` and `d2` into **`merged`**; overlapping keys should have their values **summed**."
   ]
  },
  {
   "cell_type": "code",
   "execution_count": null,
   "id": "a067d57d",
   "metadata": {},
   "outputs": [],
   "source": [
    "# === Your Work: Problem 9 ===\n",
    "d1 = {'a': 1, 'b': 2, 'c': 3}\n",
    "d2 = {'b': 5, 'c': 1, 'd': 7}\n",
    "merged = None  # TODO: Your code here\n",
    "merged"
   ]
  },
  {
   "cell_type": "code",
   "execution_count": null,
   "id": "334ec53e",
   "metadata": {},
   "outputs": [],
   "source": [
    "# === Autograder: Problem 9 ===\n",
    "_expected = {'a': 1, 'b': 7, 'c': 4, 'd': 7}\n",
    "assert isinstance(merged, dict)\n",
    "assert merged == _expected\n",
    "print('✅ Problem 9 passed!')"
   ]
  },
  {
   "cell_type": "markdown",
   "id": "7b9e9816",
   "metadata": {},
   "source": [
    "### Problem 10 — Flatten a Shallow List\n",
    "Flatten `nested` (one level) into **`flat_list`**."
   ]
  },
  {
   "cell_type": "code",
   "execution_count": null,
   "id": "6c4a0dd6",
   "metadata": {},
   "outputs": [],
   "source": [
    "# === Your Work: Problem 10 ===\n",
    "nested = [[1, 2], [3], [], [4, 5, 6]]\n",
    "flat_list = None  # TODO: Your code here\n",
    "flat_list"
   ]
  },
  {
   "cell_type": "code",
   "execution_count": null,
   "id": "8c5a110e",
   "metadata": {},
   "outputs": [],
   "source": [
    "# === Autograder: Problem 10 ===\n",
    "_expected = [1, 2, 3, 4, 5, 6]\n",
    "assert flat_list == _expected\n",
    "print('✅ Problem 10 passed!')"
   ]
  },
  {
   "cell_type": "markdown",
   "id": "c6dd47e3",
   "metadata": {},
   "source": [
    "### Problem 11 — Primes up to 50\n",
    "Create list **`primes_50`** with all primes from 2..50 inclusive."
   ]
  },
  {
   "cell_type": "code",
   "execution_count": null,
   "id": "fdcd12e3",
   "metadata": {},
   "outputs": [],
   "source": [
    "# === Your Work: Problem 11 ===\n",
    "primes_50 = None  # TODO: Your code here\n",
    "primes_50"
   ]
  },
  {
   "cell_type": "code",
   "execution_count": null,
   "id": "fb618afb",
   "metadata": {},
   "outputs": [],
   "source": [
    "# === Autograder: Problem 11 ===\n",
    "_expected = [2, 3, 5, 7, 11, 13, 17, 19, 23, 29, 31, 37, 41, 43, 47]\n",
    "assert primes_50 == _expected\n",
    "print('✅ Problem 11 passed!')"
   ]
  },
  {
   "cell_type": "markdown",
   "id": "fcdaf6f6",
   "metadata": {},
   "source": [
    "### Problem 12 — Set Intersection Size\n",
    "Compute the size of the intersection of sets `A` and `B` into **`inter_size`**. Hint `https://docs.python.org/2/library/sets.html`"
   ]
  },
  {
   "cell_type": "code",
   "execution_count": null,
   "id": "6aabc30c",
   "metadata": {},
   "outputs": [],
   "source": [
    "# === Your Work: Problem 12 ===\n",
    "A = {1, 2, 3, 4, 5}\n",
    "B = {4, 5, 6, 7}\n",
    "inter_size = None  # TODO: Your code here\n",
    "inter_size"
   ]
  },
  {
   "cell_type": "code",
   "execution_count": null,
   "id": "0d7b61fb",
   "metadata": {},
   "outputs": [],
   "source": [
    "# === Autograder: Problem 12 ===\n",
    "assert inter_size == 2\n",
    "print('✅ Problem 12 passed!')"
   ]
  },
  {
   "cell_type": "markdown",
   "id": "5b6c8177",
   "metadata": {},
   "source": [
    "### Problem 13 — Dict Comprehension (Cubes)\n",
    "Create dict **`cubes`** mapping `1..10` -> `n^3`."
   ]
  },
  {
   "cell_type": "code",
   "execution_count": null,
   "id": "4457c7bb",
   "metadata": {},
   "outputs": [],
   "source": [
    "# === Your Work: Problem 13 ===\n",
    "cubes = None  # TODO: Your code here\n",
    "cubes"
   ]
  },
  {
   "cell_type": "code",
   "execution_count": null,
   "id": "fc75996b",
   "metadata": {},
   "outputs": [],
   "source": [
    "# === Autograder: Problem 13 ===\n",
    "_expected = {1: 1, 2: 8, 3: 27, 4: 64, 5: 125, 6: 216, 7: 343, 8: 512, 9: 729, 10: 1000}\n",
    "assert cubes == _expected\n",
    "print('✅ Problem 13 passed!')"
   ]
  },
  {
   "cell_type": "markdown",
   "id": "8a38b4c5",
   "metadata": {},
   "source": [
    "### Problem 14 — Classes — Rectangle\n",
    "Define class **`Rectangle`** with `width`, `height`, methods `.area()` and `.perimeter()`. Create `rect=Rectangle(3,4)`."
   ]
  },
  {
   "cell_type": "code",
   "execution_count": null,
   "id": "c8b06d53",
   "metadata": {},
   "outputs": [],
   "source": [
    "# === Your Work: Problem 14 ===\n",
    "class Rectangle:\n",
    "    # TODO: Your code here\n",
    "    pass\n",
    "\n",
    "# Create instance\n",
    "rect = None  # TODO: Create Rectangle(3, 4)"
   ]
  },
  {
   "cell_type": "code",
   "execution_count": null,
   "id": "0181201f",
   "metadata": {},
   "outputs": [],
   "source": [
    "# === Autograder: Problem 14 ===\n",
    "assert 'Rectangle' in globals() and callable(Rectangle)\n",
    "rect = Rectangle(3,4)\n",
    "assert rect.area() == 12 and rect.perimeter() == 14\n",
    "print('✅ Problem 14 passed!')"
   ]
  },
  {
   "cell_type": "markdown",
   "id": "2f91debe",
   "metadata": {},
   "source": [
    "### Problem 15 — Classes — BankAccount\n",
    "Create class **`BankAccount`** with `balance`, `.deposit(x)`, `.withdraw(x)` (no overdraft checks). Start with 100, deposit 50, withdraw 20; store final in **`final_balance`**."
   ]
  },
  {
   "cell_type": "code",
   "execution_count": null,
   "id": "873aa9c2",
   "metadata": {},
   "outputs": [],
   "source": [
    "# === Your Work: Problem 15 ===\n",
    "class BankAccount:\n",
    "    # TODO: Your code here\n",
    "    pass\n",
    "\n",
    "acct = None  # TODO: Create BankAccount(100)\n",
    "# TODO: deposit 50\n",
    "# TODO: withdraw 20\n",
    "final_balance = None  # TODO: Get the final balance\n",
    "final_balance"
   ]
  },
  {
   "cell_type": "code",
   "execution_count": null,
   "id": "3c0aa9d5",
   "metadata": {},
   "outputs": [],
   "source": [
    "# === Autograder: Problem 15 ===\n",
    "acct = BankAccount(100)\n",
    "acct.deposit(50)\n",
    "acct.withdraw(20)\n",
    "_expected = 130\n",
    "assert acct.balance == _expected\n",
    "final_balance = acct.balance\n",
    "assert final_balance == _expected\n",
    "print('✅ Problem 15 passed!')"
   ]
  },
  {
   "cell_type": "markdown",
   "id": "0ec6a1ac",
   "metadata": {},
   "source": [
    "## Section 2 — NumPy"
   ]
  },
  {
   "cell_type": "markdown",
   "id": "8cc51383",
   "metadata": {},
   "source": [
    "### NumPy Problem 1 — Creation: arange+reshape\n",
    "Create a NumPy array `A` containing the numbers from 0 to 11 (inclusive), reshaped into a 3x4 matrix. Assign the result to the variable `A`."
   ]
  },
  {
   "cell_type": "code",
   "execution_count": null,
   "id": "9bf59d48",
   "metadata": {},
   "outputs": [],
   "source": [
    "# === Your Work: NumPy Problem 1 ===\n",
    "A = None  # TODO: Your code here\n",
    "A"
   ]
  },
  {
   "cell_type": "code",
   "execution_count": null,
   "id": "7ee93bcf",
   "metadata": {},
   "outputs": [],
   "source": [
    "# === Autograder: NumPy Problem 1 ===\n",
    "_expected = np.array([[0, 1, 2, 3],\n",
    "                      [4, 5, 6, 7],\n",
    "                      [8, 9, 10, 11]])\n",
    "assert isinstance(A, np.ndarray)\n",
    "assert np.array_equal(A, _expected)\n",
    "print('✅ NP1 passed!')"
   ]
  },
  {
   "cell_type": "markdown",
   "id": "f334d632",
   "metadata": {},
   "source": [
    "### NumPy Problem 2 — Creation: zeros\n",
    "Create a variable **`Z`** that is a NumPy array of shape `(2, 5)` filled with zeros of type `float`."
   ]
  },
  {
   "cell_type": "code",
   "execution_count": null,
   "id": "5bdecb0a",
   "metadata": {},
   "outputs": [],
   "source": [
    "# === Your Work: NumPy Problem 2 ===\n",
    "Z = None  # TODO: Your code here\n",
    "Z"
   ]
  },
  {
   "cell_type": "code",
   "execution_count": null,
   "id": "8aff8501",
   "metadata": {},
   "outputs": [],
   "source": [
    "# === Autograder: NumPy Problem 2 ===\n",
    "_expected = np.array([[0., 0., 0., 0., 0.],\n",
    "                      [0., 0., 0., 0., 0.]])\n",
    "assert Z.shape==(2,5) and np.array_equal(Z, _expected)\n",
    "print('✅ NP2 passed!')"
   ]
  },
  {
   "cell_type": "markdown",
   "id": "72cb2634",
   "metadata": {},
   "source": [
    "### NumPy Problem 3 — Creation: ones (int32)\n",
    "Create a 3x3 NumPy array filled with ones, using the data type `np.int32`, and assign it to the variable **`O`**."
   ]
  },
  {
   "cell_type": "code",
   "execution_count": null,
   "id": "172e5054",
   "metadata": {},
   "outputs": [],
   "source": [
    "# === Your Work: NumPy Problem 3 ===\n",
    "O = None  # TODO: Your code here\n",
    "O"
   ]
  },
  {
   "cell_type": "code",
   "execution_count": null,
   "id": "06350c38",
   "metadata": {},
   "outputs": [],
   "source": [
    "# === Autograder: NumPy Problem 3 ===\n",
    "_expected = np.array([[1, 1, 1],\n",
    "                      [1, 1, 1],\n",
    "                      [1, 1, 1]], dtype=np.int32)\n",
    "assert O.dtype == np.int32 and np.array_equal(O, _expected)\n",
    "print('✅ NP3 passed!')"
   ]
  },
  {
   "cell_type": "markdown",
   "id": "2246b217",
   "metadata": {},
   "source": [
    "### NumPy Problem 4 — Creation: identity\n",
    "Create **`I`** as a 4x4 identity matrix."
   ]
  },
  {
   "cell_type": "code",
   "execution_count": null,
   "id": "fff427d2",
   "metadata": {},
   "outputs": [],
   "source": [
    "# === Your Work: NumPy Problem 4 ===\n",
    "I = None  # TODO: Your code here\n",
    "I"
   ]
  },
  {
   "cell_type": "code",
   "execution_count": null,
   "id": "00383299",
   "metadata": {},
   "outputs": [],
   "source": [
    "# === Autograder: NumPy Problem 4 ===\n",
    "_expected = np.array([[1., 0., 0., 0.],\n",
    "                      [0., 1., 0., 0.],\n",
    "                      [0., 0., 1., 0.],\n",
    "                      [0., 0., 0., 1.]])\n",
    "assert np.array_equal(I, _expected)\n",
    "print('✅ NP4 passed!')"
   ]
  },
  {
   "cell_type": "markdown",
   "id": "02dafdc6",
   "metadata": {},
   "source": [
    "### NumPy Problem 5 — Random Array (Uniform, Seeded)\n",
    "Set the NumPy random seed to the global variable `SEED`. Then, create a 2x3 array `R` using `np.random.rand`."
   ]
  },
  {
   "cell_type": "code",
   "execution_count": null,
   "id": "c6937a89",
   "metadata": {},
   "outputs": [],
   "source": [
    "# === Your Work: NumPy Problem 5 ===\n",
    "np.random.seed(SEED)\n",
    "R = None  # TODO: Your code here\n",
    "R"
   ]
  },
  {
   "cell_type": "code",
   "execution_count": null,
   "id": "95dbe51a",
   "metadata": {},
   "outputs": [],
   "source": [
    "# === Autograder: NumPy Problem 5 ===\n",
    "_expected = np.array([[0.69646919, 0.28613933, 0.22685145],\n",
    "                      [0.55131477, 0.71946897, 0.42310646]])\n",
    "assert np.allclose(R, _expected)\n",
    "print('✅ NP5 passed!')"
   ]
  },
  {
   "cell_type": "markdown",
   "id": "a85897e0",
   "metadata": {},
   "source": [
    "### NumPy Problem 6 — Element-wise Addition\n",
    "Given two NumPy arrays, `x = np.array([1, 2, 3])` and `y = np.array([4, 5, 6])`, compute their element-wise sum and assign the result to **`sum_xy`**."
   ]
  },
  {
   "cell_type": "code",
   "execution_count": null,
   "id": "b677c971",
   "metadata": {},
   "outputs": [],
   "source": [
    "# === Your Work: NumPy Problem 6 ===\n",
    "x = np.array([1,2,3])\n",
    "y = np.array([4,5,6])\n",
    "sum_xy = None  # TODO: Your code here\n",
    "sum_xy"
   ]
  },
  {
   "cell_type": "code",
   "execution_count": null,
   "id": "10d3f900",
   "metadata": {},
   "outputs": [],
   "source": [
    "# === Autograder: NumPy Problem 6 ===\n",
    "_expected = np.array([5, 7, 9])\n",
    "assert np.array_equal(sum_xy, _expected)\n",
    "print('✅ NP6 passed!')"
   ]
  },
  {
   "cell_type": "markdown",
   "id": "b6b91d16",
   "metadata": {},
   "source": [
    "### NumPy Problem 7 — Element-wise Multiplication\n",
    "Given two NumPy arrays `x` and `y`, compute their element-wise product and assign the result to **`prod_xy`**."
   ]
  },
  {
   "cell_type": "code",
   "execution_count": null,
   "id": "1a426179",
   "metadata": {},
   "outputs": [],
   "source": [
    "# === Your Work: NumPy Problem 7 ===\n",
    "x = np.array([1,2,3])\n",
    "y = np.array([4,5,6])\n",
    "prod_xy = None  # TODO: Your code here\n",
    "prod_xy"
   ]
  },
  {
   "cell_type": "code",
   "execution_count": null,
   "id": "83649869",
   "metadata": {},
   "outputs": [],
   "source": [
    "# === Autograder: NumPy Problem 7 ===\n",
    "_expected = np.array([4, 10, 18])\n",
    "assert np.array_equal(prod_xy, _expected)\n",
    "print('✅ NP7 passed!')"
   ]
  },
  {
   "cell_type": "markdown",
   "id": "8d9106bb",
   "metadata": {},
   "source": [
    "### NumPy Problem 8 — Element-wise: sine\n",
    "Given `t = np.linspace(0, 1, 5)`, compute the element-wise sine of `np.pi * t` and assign the result to **`y`**.\n",
    "\n",
    "Explore how `np.linspace` works. What does it return, and how are its values determined?"
   ]
  },
  {
   "cell_type": "code",
   "execution_count": null,
   "id": "6f9d6c0d",
   "metadata": {},
   "outputs": [],
   "source": [
    "# === Your Work: NumPy Problem 8 ===\n",
    "t = np.linspace(0,1,5)\n",
    "y = None  # TODO: Your code here\n",
    "y"
   ]
  },
  {
   "cell_type": "code",
   "execution_count": null,
   "id": "cdcbc00a",
   "metadata": {},
   "outputs": [],
   "source": [
    "# === Autograder: NumPy Problem 8 ===\n",
    "_expected = np.array([0., 0.70710678, 1., 0.70710678, 0.])\n",
    "assert np.allclose(y, _expected, atol=1e-12)\n",
    "print('✅ NP8 passed!')"
   ]
  },
  {
   "cell_type": "markdown",
   "id": "66d47bfe",
   "metadata": {},
   "source": [
    "### NumPy Problem 9 — Element-wise: square\n",
    "For `v = np.arange(5)`, compute the element-wise square and assign the result to `v2`."
   ]
  },
  {
   "cell_type": "code",
   "execution_count": null,
   "id": "3f8197db",
   "metadata": {},
   "outputs": [],
   "source": [
    "# === Your Work: NumPy Problem 9 ===\n",
    "v = np.arange(5)\n",
    "v2 = None  # TODO: Your code here\n",
    "v2"
   ]
  },
  {
   "cell_type": "code",
   "execution_count": null,
   "id": "abd20a82",
   "metadata": {},
   "outputs": [],
   "source": [
    "# === Autograder: NumPy Problem 9 ===\n",
    "_expected = np.array([0, 1, 4, 9, 16])\n",
    "assert np.array_equal(v2, _expected)\n",
    "print('✅ NP9 passed!')"
   ]
  },
  {
   "cell_type": "markdown",
   "id": "a28fc255",
   "metadata": {},
   "source": [
    "Clip the values in `w = np.array([-2, -0.5, 0.2, 1.5, 3.0])` to the interval `[0, 2]` and assign the result to **`wc`**. Hint: use `np.clip`."
   ]
  },
  {
   "cell_type": "code",
   "execution_count": null,
   "id": "d405ddef",
   "metadata": {},
   "outputs": [],
   "source": [
    "# === Your Work: NumPy Problem 10 ===\n",
    "w = np.array([-2,-0.5,0.2,1.5,3.0])\n",
    "wc = None  # TODO: Your code here\n",
    "wc"
   ]
  },
  {
   "cell_type": "code",
   "execution_count": null,
   "id": "4e354893",
   "metadata": {},
   "outputs": [],
   "source": [
    "# === Autograder: NumPy Problem 10 ===\n",
    "_expected = np.array([0.0, 0.0, 0.2, 1.5, 2.0])\n",
    "assert np.allclose(wc, _expected)\n",
    "print('✅ NP10 passed!')"
   ]
  },
  {
   "cell_type": "markdown",
   "id": "fab1ba67",
   "metadata": {},
   "source": [
    "### NumPy Problem 11 — Transpose + MatMul\n",
    "Let `A=np.array([[1,2,3],[4,5,6]])`. Compute the matrix multiplication between `A.T` and `A`"
   ]
  },
  {
   "cell_type": "code",
   "execution_count": null,
   "id": "6c1bc505",
   "metadata": {},
   "outputs": [],
   "source": [
    "# === Your Work: NumPy Problem 11 ===\n",
    "A = np.array([[1,2,3],[4,5,6]])\n",
    "G = None  # TODO: Your code here\n",
    "G"
   ]
  },
  {
   "cell_type": "code",
   "execution_count": null,
   "id": "b6aca1d2",
   "metadata": {},
   "outputs": [],
   "source": [
    "# === Autograder: NumPy Problem 11 ===\n",
    "_expected = np.array([[17, 22, 27],\n",
    "                      [22, 29, 36],\n",
    "                      [27, 36, 45]])\n",
    "assert np.array_equal(G, _expected)\n",
    "print('✅ NP11 passed!')"
   ]
  },
  {
   "cell_type": "markdown",
   "id": "a75696f1",
   "metadata": {},
   "source": [
    "### NumPy Problem 12 — Matrix Multiplication \n",
    "Given the matrices `M` and `N` below, compute their matrix product and assign the result to **`P`**."
   ]
  },
  {
   "cell_type": "code",
   "execution_count": null,
   "id": "bb06242f",
   "metadata": {},
   "outputs": [],
   "source": [
    "# === Your Work: NumPy Problem 12 ===\n",
    "M = np.array([[1,2],[3,4],[5,6]])\n",
    "N = np.array([[2,0,1,3],[1,3,2,0]])\n",
    "P = None  # TODO: Your code here\n",
    "P"
   ]
  },
  {
   "cell_type": "code",
   "execution_count": null,
   "id": "cbba0c5a",
   "metadata": {},
   "outputs": [],
   "source": [
    "# === Autograder: NumPy Problem 12 ===\n",
    "_expected = np.array([[4, 6, 5, 3],\n",
    "                      [10, 12, 11, 9],\n",
    "                      [16, 18, 17, 15]])\n",
    "assert np.array_equal(P, _expected)\n",
    "print('✅ NP12 passed!')"
   ]
  },
  {
   "cell_type": "markdown",
   "id": "332c6ead",
   "metadata": {},
   "source": [
    "### NumPy Problem 13 — Symmetry of A A^T\n",
    "Given the matrix `B = np.array([[1, 0], [2, 3], [4, 5]])`, determine whether the matrix product `S = B @ B.T` is symmetric by checking if it equals its transpose, and assign the result to `is_symmetric`."
   ]
  },
  {
   "cell_type": "code",
   "execution_count": null,
   "id": "30f12591",
   "metadata": {},
   "outputs": [],
   "source": [
    "# === Your Work: NumPy Problem 13 ===\n",
    "B = np.array([[1,0],[2,3],[4,5]])\n",
    "S = None  # TODO: Compute B @ B.T\n",
    "is_symmetric = None  # TODO: Check if S is symmetric\n",
    "is_symmetric"
   ]
  },
  {
   "cell_type": "code",
   "execution_count": null,
   "id": "ebe8feb3",
   "metadata": {},
   "outputs": [],
   "source": [
    "# === Autograder: NumPy Problem 13 ===\n",
    "_expected = True\n",
    "assert is_symmetric is True\n",
    "print('✅ NP13 passed!')"
   ]
  },
  {
   "cell_type": "markdown",
   "id": "2b27ef8e",
   "metadata": {},
   "source": [
    "### NumPy Problem 14 — Broadcast: Add Row Vector\n",
    "\n",
    "Given `X = np.arange(12).reshape(3, 4)` and `b = np.array([10, 20, 30, 40])`, use broadcasting to add the row vector `b` to each row of `X`. Assign the result to **`Y`**."
   ]
  },
  {
   "cell_type": "code",
   "execution_count": null,
   "id": "2877af95",
   "metadata": {},
   "outputs": [],
   "source": [
    "# === Your Work: NumPy Problem 14 ===\n",
    "X = np.arange(12).reshape(3,4)\n",
    "b = np.array([10,20,30,40])\n",
    "Y = None  # TODO: Your code here\n",
    "Y"
   ]
  },
  {
   "cell_type": "code",
   "execution_count": null,
   "id": "0c160b00",
   "metadata": {},
   "outputs": [],
   "source": [
    "# === Autograder: NumPy Problem 14 ===\n",
    "_expected = np.array([[10, 21, 32, 43],\n",
    "                      [14, 25, 36, 47],\n",
    "                      [18, 29, 40, 51]])\n",
    "assert np.array_equal(Y, _expected)\n",
    "print('✅ NP14 passed!')"
   ]
  },
  {
   "cell_type": "markdown",
   "id": "1fc7a6c5",
   "metadata": {},
   "source": [
    "### NumPy Problem 15 — Broadcast: Scale Columns\n",
    "\n",
    "Given the matrix `X` above and the vector `s = np.array([1, 2, 3, 4])`, compute the result of scaling each column of `X` by the corresponding value in `s` using broadcasting. Assign the result to **`Z`**."
   ]
  },
  {
   "cell_type": "code",
   "execution_count": null,
   "id": "140a9d9b",
   "metadata": {},
   "outputs": [],
   "source": [
    "# === Your Work: NumPy Problem 15 ===\n",
    "X = np.arange(12).reshape(3,4)\n",
    "s = np.array([1,2,3,4])\n",
    "Z = None  # TODO: Your code here\n",
    "Z"
   ]
  },
  {
   "cell_type": "code",
   "execution_count": null,
   "id": "0f79458d",
   "metadata": {},
   "outputs": [],
   "source": [
    "# === Autograder: NumPy Problem 15 ===\n",
    "_expected = np.array([[0, 2, 6, 12],\n",
    "                      [4, 10, 18, 28],\n",
    "                      [8, 18, 30, 44]])\n",
    "assert np.array_equal(Z, _expected)\n",
    "print('✅ NP15 passed!')"
   ]
  },
  {
   "cell_type": "markdown",
   "id": "7c0245f3",
   "metadata": {},
   "source": [
    "### NumPy Problem 16 — Broadcast: last col = row sums\n",
    "Create `B=np.random.randint(0,10,(4,4))`. Set last column to each row's sum."
   ]
  },
  {
   "cell_type": "code",
   "execution_count": null,
   "id": "b84b8fe5",
   "metadata": {},
   "outputs": [],
   "source": [
    "# === Your Work: NumPy Problem 16 ===\n",
    "np.random.seed(SEED)\n",
    "B = np.random.randint(0,10,(4,4))\n",
    "# TODO: Set last column to row sums\n",
    "B"
   ]
  },
  {
   "cell_type": "code",
   "execution_count": null,
   "id": "87941ccf",
   "metadata": {},
   "outputs": [],
   "source": [
    "# === Autograder: NumPy Problem 16 ===\n",
    "_expected = np.array([[ 2,  2,  6, 11],\n",
    "                        [ 3,  9,  6, 19],\n",
    "                        [ 0,  1,  9, 10],\n",
    "                        [ 0,  9,  3, 16]])\n",
    "assert B.shape==(4,4)\n",
    "assert np.array_equal(B, _expected)\n",
    "print('✅ NP16 passed!')"
   ]
  },
  {
   "cell_type": "markdown",
   "id": "7e7e6090",
   "metadata": {},
   "source": [
    "### NumPy Problem 17 — Broadcast: outer addition\n",
    "Given `u=np.array([1,2,3])` and `v=np.array([10,20])`, create **`W`** such that `W[i,j] = u[i] + v[j]` using broadcasting (no loops). Hint `np.newaxis`"
   ]
  },
  {
   "cell_type": "code",
   "execution_count": null,
   "id": "06dc9829",
   "metadata": {},
   "outputs": [],
   "source": [
    "# === Your Work: NumPy Problem 17 ===\n",
    "u = np.array([1,2,3])\n",
    "v = np.array([10,20])\n",
    "W = None  # TODO: Your code here\n",
    "W"
   ]
  },
  {
   "cell_type": "code",
   "execution_count": null,
   "id": "bd3ca6f9",
   "metadata": {},
   "outputs": [],
   "source": [
    "# === Autograder: NumPy Problem 17 ===\n",
    "_expected = np.array([[11, 21],\n",
    "                      [12, 22],\n",
    "                      [13, 23]])\n",
    "assert np.array_equal(W, _expected)\n",
    "print('✅ NP17 passed!')"
   ]
  },
  {
   "cell_type": "markdown",
   "id": "4dee4dae",
   "metadata": {},
   "source": [
    "### NumPy Problem 18 — Standardize Columns with Broadcasting\n",
    "Given `X = np.array([[1., 2., 3.], [4., 5., 6.], [7., 8., 9.]])`, use broadcasting to standardize each column: subtract the column mean and divide by the column standard deviation. Assign the result to **`Xz`**."
   ]
  },
  {
   "cell_type": "code",
   "execution_count": null,
   "id": "20ea6ec4",
   "metadata": {},
   "outputs": [],
   "source": [
    "# === Your Work: NumPy Problem 18 ===\n",
    "X = np.array([[1.,2.,3.],[4.,5.,6.],[7.,8.,9.]])\n",
    "Xz = None  # TODO: Your code here\n",
    "Xz"
   ]
  },
  {
   "cell_type": "code",
   "execution_count": null,
   "id": "a31cd36d",
   "metadata": {},
   "outputs": [],
   "source": [
    "# === Autograder: NumPy Problem 18 ===\n",
    "_expected = np.array([[-1.22474487, -1.22474487, -1.22474487],\n",
    "       [ 0.        ,  0.        ,  0.        ],\n",
    "       [ 1.22474487,  1.22474487,  1.22474487]])\n",
    "assert np.allclose(Xz, _expected)\n",
    "print('✅ NP18 passed!')"
   ]
  },
  {
   "cell_type": "markdown",
   "id": "e2d17e40",
   "metadata": {},
   "source": [
    "### NumPy Problem 19 — Dtypes: int16\n",
    "Create a NumPy array containing the values `[100, 200, 300]` with the data type `int16`, and assign it to the variable **`D16`**."
   ]
  },
  {
   "cell_type": "code",
   "execution_count": null,
   "id": "a84417a6",
   "metadata": {},
   "outputs": [],
   "source": [
    "# === Your Work: NumPy Problem 19 ===\n",
    "D16 = None  # TODO: Your code here\n",
    "D16"
   ]
  },
  {
   "cell_type": "code",
   "execution_count": null,
   "id": "bc519266",
   "metadata": {},
   "outputs": [],
   "source": [
    "# === Autograder: NumPy Problem 19 ===\n",
    "_expected = np.array([100, 200, 300], dtype=np.int16)\n",
    "assert D16.dtype==np.int16 and np.array_equal(D16,_expected)\n",
    "print('✅ NP19 passed!')"
   ]
  },
  {
   "cell_type": "markdown",
   "id": "701ba2fa",
   "metadata": {},
   "source": [
    "### NumPy Problem 20 — Dtypes: cast float->int\n",
    "Given `q = np.array([1.7, 2.2, -3.9])`, cast `q` to integers by truncating toward zero (not rounding), and assign the result to **`qi`**. Hint use `astype`."
   ]
  },
  {
   "cell_type": "code",
   "execution_count": null,
   "id": "66f173a2",
   "metadata": {},
   "outputs": [],
   "source": [
    "# === Your Work: NumPy Problem 20 ===\n",
    "q = np.array([1.7, 2.2, -3.9])\n",
    "qi = None  # TODO: Your code here\n",
    "qi"
   ]
  },
  {
   "cell_type": "code",
   "execution_count": null,
   "id": "2978649f",
   "metadata": {},
   "outputs": [],
   "source": [
    "# === Autograder: NumPy Problem 20 ===\n",
    "_expected = np.array([1, 2, -3])\n",
    "assert np.array_equal(qi, _expected)\n",
    "print('✅ NP20 passed!')"
   ]
  },
  {
   "cell_type": "markdown",
   "id": "ak7y9wa67ze",
   "metadata": {},
   "source": [
    "### NumPy Problem 21 — Dtypes: itemsize\n",
    "Create a NumPy array `arr` of five zeros with data type `np.float64`. Then, assign the size in bytes of each array element to the variable **`item_sz`** using the `.itemsize` attribute."
   ]
  },
  {
   "cell_type": "code",
   "execution_count": null,
   "id": "xwydzqlwo6d",
   "metadata": {},
   "outputs": [],
   "source": [
    "# === Your Work: NumPy Problem 21 ===\n",
    "arr = None  # TODO: Your code here\n",
    "item_sz = None  # TODO: Your code here\n",
    "item_sz"
   ]
  },
  {
   "cell_type": "code",
   "execution_count": null,
   "id": "yc0nvi1opl",
   "metadata": {},
   "outputs": [],
   "source": [
    "# === Autograder: NumPy Problem 21 ===\n",
    "_expected = 8\n",
    "assert item_sz == _expected\n",
    "print('✅ NP21 passed!')"
   ]
  },
  {
   "cell_type": "markdown",
   "id": "13803b3c",
   "metadata": {},
   "source": [
    "### NumPy Problem 22 — Dtypes: Upcasting Behavior\n",
    "\n",
    "Given `a = np.array([1], dtype=np.int32)` and `b = np.array([2.5], dtype=np.float32)`, compute their sum as `c = a + b`. What is the data type of the resulting array? Assign the result to **`c_dtype`**."
   ]
  },
  {
   "cell_type": "code",
   "execution_count": null,
   "id": "e0b28cc5",
   "metadata": {},
   "outputs": [],
   "source": [
    "# === Your Work: NumPy Problem 22 ===\n",
    "a = np.array([1], dtype=np.int16)\n",
    "b = np.array([2.5], dtype=np.float32)\n",
    "c = None  # TODO: Your code here\n",
    "c_dtype = None  # TODO: Your code here\n",
    "c_dtype"
   ]
  },
  {
   "cell_type": "code",
   "execution_count": null,
   "id": "8656c83a",
   "metadata": {},
   "outputs": [],
   "source": [
    "# === Autograder: NumPy Problem 22 ===\n",
    "_expected = np.float32\n",
    "assert c_dtype == _expected\n",
    "print('✅ NP22 passed!')"
   ]
  },
  {
   "cell_type": "markdown",
   "id": "663099b1",
   "metadata": {},
   "source": [
    "### NumPy Problem 23 — Indexing: middle column\n",
    "For `M=np.arange(12).reshape(3,4)`, extract the middle two columns into **`mid`** (shape (3,2))."
   ]
  },
  {
   "cell_type": "code",
   "execution_count": null,
   "id": "5e30a10a",
   "metadata": {},
   "outputs": [],
   "source": [
    "# === Your Work: NumPy Problem 23 ===\n",
    "M = np.arange(12).reshape(3,4)\n",
    "mid = None  # TODO: Your code here\n",
    "mid"
   ]
  },
  {
   "cell_type": "code",
   "execution_count": null,
   "id": "6f554466",
   "metadata": {},
   "outputs": [],
   "source": [
    "# === Autograder: NumPy Problem 23 ===\n",
    "_expected = np.array([[1, 2],\n",
    "                      [5, 6],\n",
    "                      [9, 10]])\n",
    "assert np.array_equal(mid, _expected)\n",
    "print('✅ NP23 passed!')"
   ]
  },
  {
   "cell_type": "markdown",
   "id": "d3cdd604",
   "metadata": {},
   "source": [
    "### NumPy Problem 24 — Mask: elements > mean\n",
    "For `v=np.array([1,3,5,7,9])`, create **`v_masked`** keeping only elements strictly greater than the mean of the entire array."
   ]
  },
  {
   "cell_type": "code",
   "execution_count": null,
   "id": "c12ec73b",
   "metadata": {},
   "outputs": [],
   "source": [
    "# === Your Work: NumPy Problem 24 ===\n",
    "v = np.array([1,3,5,7,9])\n",
    "v_masked = None  # TODO: Your code here\n",
    "v_masked"
   ]
  },
  {
   "cell_type": "code",
   "execution_count": null,
   "id": "808611a2",
   "metadata": {},
   "outputs": [],
   "source": [
    "# === Autograder: NumPy Problem 24 ===\n",
    "_expected = np.array([7, 9])\n",
    "assert np.array_equal(v_masked, _expected)\n",
    "print('✅ NP24 passed!')"
   ]
  },
  {
   "cell_type": "markdown",
   "id": "1139e17f",
   "metadata": {},
   "source": [
    "### NumPy Problem 25 — Fancy indexing: reorder\n",
    "Reorder `v=np.array([10,20,30,40])` to **`v_re`** using indices `[2,0,3,1]`."
   ]
  },
  {
   "cell_type": "code",
   "execution_count": null,
   "id": "04cb0c38",
   "metadata": {},
   "outputs": [],
   "source": [
    "# === Your Work: NumPy Problem 25 ===\n",
    "v = np.array([10,20,30,40])\n",
    "idx = np.array([2,0,3,1])\n",
    "v_re = None  # TODO: Your code here\n",
    "v_re"
   ]
  },
  {
   "cell_type": "code",
   "execution_count": null,
   "id": "0d996716",
   "metadata": {},
   "outputs": [],
   "source": [
    "# === Autograder: NumPy Problem 25 ===\n",
    "_expected = np.array([30, 10, 40, 20])\n",
    "assert np.array_equal(v_re, _expected)\n",
    "print('✅ NP25 passed!')"
   ]
  },
  {
   "cell_type": "markdown",
   "id": "rp4lfih1nok",
   "metadata": {},
   "source": [
    "### NumPy Problem 26 — Reshape and Flatten (Row-major vs. F-major)\n",
    "\n",
    "Create an array `R` by reshaping `np.arange(6)` into shape `(2, 3)`. Then, use `.ravel()` to obtain a row-major flattened view and assign it to **`rflat`**.  \n",
    "Compare the difference between row-major (`order='C'`) and column-major (`order='F'`) flattening."
   ]
  },
  {
   "cell_type": "code",
   "execution_count": null,
   "id": "qd6x6m0md4k",
   "metadata": {},
   "outputs": [],
   "source": [
    "# === Your Work: NumPy Problem 26 ===\n",
    "R = None  # TODO: Your code here\n",
    "rflat = None  # TODO: Your code here\n",
    "rflat"
   ]
  },
  {
   "cell_type": "code",
   "execution_count": null,
   "id": "rjs51p5imj",
   "metadata": {},
   "outputs": [],
   "source": [
    "# === Autograder: NumPy Problem 26 ===\n",
    "_expected = np.array([0, 1, 2, 3, 4, 5])\n",
    "assert np.array_equal(rflat, _expected)\n",
    "print('✅ NP26 passed!')"
   ]
  },
  {
   "cell_type": "markdown",
   "id": "3a982368",
   "metadata": {},
   "source": [
    "### NumPy Problem 27 — Concatenate Arrays Along Axis 0\n",
    "\n",
    "Given `A = np.ones((2, 2))` and `B = np.zeros((1, 2))`, concatenate these arrays along axis 0 to create a new array `C` with shape `(3, 2)`."
   ]
  },
  {
   "cell_type": "code",
   "execution_count": null,
   "id": "814a0b86",
   "metadata": {},
   "outputs": [],
   "source": [
    "# === Your Work: NumPy Problem 27 ===\n",
    "A = np.ones((2,2))\n",
    "B = np.zeros((1,2))\n",
    "C = None  # TODO: Your code here\n",
    "C"
   ]
  },
  {
   "cell_type": "code",
   "execution_count": null,
   "id": "560846d1",
   "metadata": {},
   "outputs": [],
   "source": [
    "# === Autograder: NumPy Problem 27 ===\n",
    "_expected = np.array([[1., 1.],\n",
    "                      [1., 1.],\n",
    "                      [0., 0.]])\n",
    "assert C.shape==(3,2) and np.array_equal(C, _expected)\n",
    "print('✅ NP27 passed!')"
   ]
  },
  {
   "cell_type": "markdown",
   "id": "ddb5c024",
   "metadata": {},
   "source": [
    "### NumPy Problem 28 — Aggregations: sums\n",
    "For `T=np.arange(12).reshape(3,4)`, compute row sums into **`row_sums`** and column sums into **`col_sums`**."
   ]
  },
  {
   "cell_type": "code",
   "execution_count": null,
   "id": "a5060205",
   "metadata": {},
   "outputs": [],
   "source": [
    "# === Your Work: NumPy Problem 28 ===\n",
    "T = np.arange(12).reshape(3,4)\n",
    "row_sums = None  # TODO: Your code here\n",
    "col_sums = None  # TODO: Your code here\n",
    "(row_sums, col_sums)"
   ]
  },
  {
   "cell_type": "code",
   "execution_count": null,
   "id": "e5b04c78",
   "metadata": {},
   "outputs": [],
   "source": [
    "# === Autograder: NumPy Problem 28 ===\n",
    "_expected_rows = np.array([6, 22, 38])\n",
    "_expected_cols = np.array([12, 15, 18, 21])\n",
    "assert np.array_equal(row_sums, _expected_rows)\n",
    "assert np.array_equal(col_sums, _expected_cols)\n",
    "print('✅ NP28 passed!')"
   ]
  },
  {
   "cell_type": "markdown",
   "id": "0056d4f8",
   "metadata": {},
   "source": [
    "### NumPy Problem 29 — Aggregations: argmax per row\n",
    "For `U=np.array([[5,1,7],[0,9,3]])`, compute **`imax`** as the index of the maximum in each row."
   ]
  },
  {
   "cell_type": "code",
   "execution_count": null,
   "id": "3b9bbc35",
   "metadata": {},
   "outputs": [],
   "source": [
    "# === Your Work: NumPy Problem 29 ===\n",
    "U = np.array([[5,1,7],[0,9,3]])\n",
    "imax = None  # TODO: Your code here\n",
    "imax"
   ]
  },
  {
   "cell_type": "code",
   "execution_count": null,
   "id": "528b4cb2",
   "metadata": {},
   "outputs": [],
   "source": [
    "# === Autograder: NumPy Problem 29 ===\n",
    "_expected = np.array([2, 1])\n",
    "assert np.array_equal(imax, _expected)\n",
    "print('✅ NP29 passed!')"
   ]
  },
  {
   "cell_type": "markdown",
   "id": "7df76fab",
   "metadata": {},
   "source": [
    "### NumPy Problem 30 — Aggregations: cumulative sum\n",
    "For `v=np.array([1,2,3,4])`, compute the cumulative sum of the array. Hint `np.cumsum(v)`."
   ]
  },
  {
   "cell_type": "code",
   "execution_count": null,
   "id": "afe33695",
   "metadata": {},
   "outputs": [],
   "source": [
    "# === Your Work: NumPy Problem 30 ===\n",
    "v = np.array([1,2,3,4])\n",
    "vcum = None  # TODO: Your code here\n",
    "vcum"
   ]
  },
  {
   "cell_type": "code",
   "execution_count": null,
   "id": "00f3e544",
   "metadata": {},
   "outputs": [],
   "source": [
    "# === Autograder: NumPy Problem 30 ===\n",
    "_expected = np.array([1, 3, 6, 10])\n",
    "assert np.array_equal(vcum, _expected)\n",
    "print('✅ NP30 passed!')"
   ]
  },
  {
   "cell_type": "markdown",
   "id": "0833d4bb",
   "metadata": {},
   "source": [
    "### NumPy Problem 31 — Mask: replace negatives (seeded)\n",
    "Replace all the negative values of the array with the value 0."
   ]
  },
  {
   "cell_type": "code",
   "execution_count": null,
   "id": "f6b5f300",
   "metadata": {},
   "outputs": [],
   "source": [
    "# === Your Work: NumPy Problem 31 ===\n",
    "np.random.seed(SEED)\n",
    "v = np.random.randn(8)\n",
    "v_pos = v.copy()\n",
    "# TODO: Replace negative values with 0\n",
    "v_pos"
   ]
  },
  {
   "cell_type": "code",
   "execution_count": null,
   "id": "a0cae56d",
   "metadata": {},
   "outputs": [],
   "source": [
    "# === Autograder: NumPy Problem 31 ===\n",
    "_expected = np.array([0.        , 0.99734545, 0.2829785 , 0.        , 0.        ,\n",
    "       1.65143654, 0.        , 0.        ])\n",
    "assert np.allclose(v_pos, _expected)\n",
    "print('✅ NP31 passed!')"
   ]
  },
  {
   "cell_type": "markdown",
   "id": "c5fef46e",
   "metadata": {},
   "source": [
    "### NumPy Problem 32 — Indexing: diagonal\n",
    "Create `M=np.arange(1,10).reshape(3,3)` and store its main diagonal in **`diagM`**. Hint: use `np.diag`."
   ]
  },
  {
   "cell_type": "code",
   "execution_count": null,
   "id": "62843cec",
   "metadata": {},
   "outputs": [],
   "source": [
    "# === Your Work: NumPy Problem 32 ===\n",
    "M = np.arange(1,10).reshape(3,3)\n",
    "diagM = None  # TODO: Your code here\n",
    "diagM"
   ]
  },
  {
   "cell_type": "code",
   "execution_count": null,
   "id": "305333f2",
   "metadata": {},
   "outputs": [],
   "source": [
    "# === Autograder: NumPy Problem 32 ===\n",
    "_expected = np.array([1, 5, 9])\n",
    "assert np.array_equal(diagM, _expected)\n",
    "print('✅ NP32 passed!')"
   ]
  },
  {
   "cell_type": "markdown",
   "id": "sv460y9cx7h",
   "metadata": {},
   "source": [
    "### NumPy Problem 33 — Transpose: double transpose\n",
    "For `A=np.arange(6).reshape(2,3)`, compute **`AtA`** = `(A.T).T` and verify equality to `A` by assigning boolean **`same`**."
   ]
  },
  {
   "cell_type": "code",
   "execution_count": null,
   "id": "ydkicakmux",
   "metadata": {},
   "outputs": [],
   "source": [
    "# === Your Work: NumPy Problem 33 ===\n",
    "A = np.arange(6).reshape(2,3)\n",
    "AtA = None  # TODO: Your code here\n",
    "same = None  # TODO: Your code here\n",
    "same"
   ]
  },
  {
   "cell_type": "code",
   "execution_count": null,
   "id": "20t61wfpxb4",
   "metadata": {},
   "outputs": [],
   "source": [
    "# === Autograder: NumPy Problem 33 ===\n",
    "_expected = True\n",
    "assert same is True\n",
    "print('✅ NP33 passed!')"
   ]
  },
  {
   "cell_type": "markdown",
   "id": "ae2e777c",
   "metadata": {},
   "source": [
    "### NumPy Problem 34 — MatMul: squared norm\n",
    "For the array `x = np.array([1., -2., 3.])`, compute its squared norm as a scalar using matrix multiplication."
   ]
  },
  {
   "cell_type": "code",
   "execution_count": null,
   "id": "900c79b4",
   "metadata": {},
   "outputs": [],
   "source": [
    "# === Your Work: NumPy Problem 34 ===\n",
    "x = np.array([1.,-2.,3.])\n",
    "sqnorm = None  # TODO: Your code here\n",
    "sqnorm"
   ]
  },
  {
   "cell_type": "code",
   "execution_count": null,
   "id": "0b8ca4b2",
   "metadata": {},
   "outputs": [],
   "source": [
    "# === Autograder: NumPy Problem 34 ===\n",
    "_expected = 14.0\n",
    "assert isinstance(sqnorm, (int,float))\n",
    "assert abs(sqnorm - _expected) < 1e-12\n",
    "print('✅ NP34 passed!')"
   ]
  },
  {
   "cell_type": "markdown",
   "id": "6855cde5",
   "metadata": {},
   "source": [
    "### NumPy Problem 35 — Broadcast: add tiled vector\n",
    "Let `v=np.array([1,2])` and `M=np.zeros((3,2))`. Add `v` to each row to make **`Tsum`**."
   ]
  },
  {
   "cell_type": "code",
   "execution_count": null,
   "id": "0c3fac35",
   "metadata": {},
   "outputs": [],
   "source": [
    "# === Your Work: NumPy Problem 35 ===\n",
    "v = np.array([1,2])\n",
    "M = np.zeros((3,2))\n",
    "Tsum = None  # TODO: Your code here\n",
    "Tsum"
   ]
  },
  {
   "cell_type": "code",
   "execution_count": null,
   "id": "9cff1e51",
   "metadata": {},
   "outputs": [],
   "source": [
    "# === Autograder: NumPy Problem 35 ===\n",
    "_expected = np.array([[1., 2.],\n",
    "                      [1., 2.],\n",
    "                      [1., 2.]])\n",
    "assert np.array_equal(Tsum, _expected)\n",
    "print('✅ NP35 passed!')"
   ]
  },
  {
   "cell_type": "markdown",
   "id": "7743123f",
   "metadata": {},
   "source": [
    "### NumPy Problem 36 — Creation: randint dtype (seeded)\n",
    "Seed and create **`K`** as random integers in [0,5) with shape (2,4) and dtype `np.int8`."
   ]
  },
  {
   "cell_type": "code",
   "execution_count": null,
   "id": "49213d61",
   "metadata": {},
   "outputs": [],
   "source": [
    "# === Your Work: NumPy Problem 36 ===\n",
    "np.random.seed(SEED)\n",
    "K = None  # TODO: Your code here\n",
    "K"
   ]
  },
  {
   "cell_type": "code",
   "execution_count": null,
   "id": "7bb59605",
   "metadata": {},
   "outputs": [],
   "source": [
    "# === Autograder: NumPy Problem 36 ===\n",
    "_expected = np.array([[2, 4, 2, 1],\n",
    "                      [3, 2, 3, 1]], dtype=np.int8)\n",
    "assert K.dtype==np.int8 and np.array_equal(K,_expected)\n",
    "print('✅ NP36 passed!')"
   ]
  },
  {
   "cell_type": "markdown",
   "id": "c18f9c6a",
   "metadata": {},
   "source": [
    "### NumPy Problem 37 — Element-wise: np.where\n",
    "For a given array `a=np.array([1,-1,2,-2,0])`, create a **`signs`** array where you should put `1` for positive , `-1` for negative, `0` for zero values of the original array. Hint `np.where`."
   ]
  },
  {
   "cell_type": "code",
   "execution_count": null,
   "id": "0a890d8e",
   "metadata": {},
   "outputs": [],
   "source": [
    "# === Your Work: NumPy Problem 37 ===\n",
    "a = np.array([1,-1,2,-2,0])\n",
    "signs = None  # TODO: Your code here\n",
    "signs"
   ]
  },
  {
   "cell_type": "code",
   "execution_count": null,
   "id": "36801aba",
   "metadata": {},
   "outputs": [],
   "source": [
    "# === Autograder: NumPy Problem 37 ===\n",
    "_expected = np.array([1, -1, 1, -1, 0])\n",
    "assert np.array_equal(signs, _expected)\n",
    "print('✅ NP37 passed!')"
   ]
  },
  {
   "cell_type": "markdown",
   "id": "8ec2a905",
   "metadata": {},
   "source": [
    "### NumPy Problem 38 — Broadcast: Row Normalization\n",
    "\n",
    "Given the array `X = np.array([[1., 2.], [3., 4.], [5., 6.]])`, use broadcasting to create a new array **`Xn`** such that each row of `Xn` sums to 1.  \n",
    "How can you achieve this normalization using NumPy? (Hint: consider the `keepdims` argument.)"
   ]
  },
  {
   "cell_type": "code",
   "execution_count": null,
   "id": "75eb3ca1",
   "metadata": {},
   "outputs": [],
   "source": [
    "# === Your Work: NumPy Problem 38 ===\n",
    "X = np.array([[1.,2.],[3.,4.],[5.,6.]])\n",
    "Xn = None  # TODO: Your code here\n",
    "Xn"
   ]
  },
  {
   "cell_type": "code",
   "execution_count": null,
   "id": "53231bf6",
   "metadata": {},
   "outputs": [],
   "source": [
    "# === Autograder: NumPy Problem 38 ===\n",
    "_expected = np.array([[0.33333333, 0.66666667],\n",
    "                      [0.42857143, 0.57142857],\n",
    "                      [0.45454545, 0.54545455]])\n",
    "assert np.allclose(Xn, _expected)\n",
    "print('✅ NP38 passed!')"
   ]
  },
  {
   "cell_type": "markdown",
   "id": "b5e27044",
   "metadata": {},
   "source": [
    "### NumPy Problem 39 — Indexing: np.argwhere\n",
    "For the array `M = np.array([[0, 2, 0], [3, 0, 4]])`, use `np.argwhere` to find the indices of all non-zero elements and assign the result to **`nz`**."
   ]
  },
  {
   "cell_type": "code",
   "execution_count": null,
   "id": "90d0f66f",
   "metadata": {},
   "outputs": [],
   "source": [
    "# === Your Work: NumPy Problem 39 ===\n",
    "M = np.array([[0,2,0],[3,0,4]])\n",
    "nz = None  # TODO: Your code here\n",
    "nz"
   ]
  },
  {
   "cell_type": "code",
   "execution_count": null,
   "id": "bc97f87d",
   "metadata": {},
   "outputs": [],
   "source": [
    "# === Autograder: NumPy Problem 39 ===\n",
    "_expected = np.array([[0, 1],\n",
    "                      [1, 0],\n",
    "                      [1, 2]])\n",
    "assert np.array_equal(nz, _expected)\n",
    "print('✅ NP39 passed!')"
   ]
  },
  {
   "cell_type": "markdown",
   "id": "bfsgzd3dese",
   "metadata": {},
   "source": [
    "### NumPy Problem 40 — Broadcast: Centering Columns\n",
    "\n",
    "Given `X = np.arange(12).reshape(3, 4)`, use broadcasting to subtract the mean of each column from every element in that column. Assign the result to **`Xc`**."
   ]
  },
  {
   "cell_type": "code",
   "execution_count": null,
   "id": "4i3hduwr80p",
   "metadata": {},
   "outputs": [],
   "source": [
    "# === Your Work: NumPy Problem 40 ===\n",
    "X = np.arange(12).reshape(3,4)\n",
    "Xc = None  # TODO: Your code here\n",
    "Xc"
   ]
  },
  {
   "cell_type": "code",
   "execution_count": null,
   "id": "0aeo1hefb20l",
   "metadata": {},
   "outputs": [],
   "source": [
    "# === Autograder: NumPy Problem 40 ===\n",
    "_expected = np.array([[-4., -4., -4., -4.],\n",
    "                      [ 0.,  0.,  0.,  0.],\n",
    "                      [ 4.,  4.,  4.,  4.]])\n",
    "assert np.allclose(Xc, _expected)\n",
    "print('✅ NP40 passed!')"
   ]
  },
  {
   "cell_type": "markdown",
   "id": "84befed8",
   "metadata": {},
   "source": [
    "# 🎉 Congratulations! You're now a Python & NumPy wizard.\n",
    "\n",
    "Want more practice? You can check out:\n",
    "- [NumPy Docs](https://numpy.org/doc/) 🧮\n",
    "- [NumPy Docs](https://numpy.org/) 🔥\n",
    "- [TutorialsPoint](https://www.tutorialspoint.com/) 📚"
   ]
  }
 ],
 "metadata": {
  "kernelspec": {
   "display_name": "Python (ml2)",
   "language": "python",
   "name": "ml2"
  },
  "language_info": {
   "codemirror_mode": {
    "name": "ipython",
    "version": 3
   },
   "file_extension": ".py",
   "mimetype": "text/x-python",
   "name": "python",
   "nbconvert_exporter": "python",
   "pygments_lexer": "ipython3",
   "version": "3.11.9"
  }
 },
 "nbformat": 4,
 "nbformat_minor": 5
}
