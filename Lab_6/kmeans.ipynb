{
 "cells": [
  {
   "cell_type": "markdown",
   "metadata": {},
   "source": [
    "# K-Means Clustering Algorithm Implementation\n",
    "\n",
    "This notebook guides you through implementing the K-Means clustering algorithm and evaluating the resulting clusters using Silhouette Score and Dunn Index. Follow the comments and instructions to complete the missing code."
   ]
  },
  {
   "cell_type": "code",
   "execution_count": 1,
   "metadata": {},
   "outputs": [],
   "source": [
    "import numpy as np\n",
    "import matplotlib.pyplot as plt"
   ]
  },
  {
   "cell_type": "markdown",
   "metadata": {},
   "source": [
    "## Step 0: Load and visualize the data\n",
    "Load the data from the `npz` files and plot the instances."
   ]
  },
  {
   "cell_type": "code",
   "execution_count": 2,
   "metadata": {},
   "outputs": [
    {
     "data": {
      "image/png": "[encoded data removed]",
      "text/plain": [
       "<Figure size 640x480 with 1 Axes>"
      ]
     },
     "metadata": {},
     "output_type": "display_data"
    }
   ],
   "source": [
    "# Load the data from npz file\n",
    "data = np.load('dataset1.npz')\n",
    "X = data['data']\n",
    "\n",
    "# Plot the data\n",
    "plt.scatter(X[:, 0], X[:, 1], s=50)\n",
    "plt.title('Data Visualization')\n",
    "plt.xlabel('Feature 1')\n",
    "plt.ylabel('Feature 2')\n",
    "plt.show()"
   ]
  },
  {
   "cell_type": "markdown",
   "metadata": {},
   "source": [
    "## Step 1: Initialize K-Means Algorithm\n",
    "Define a function to initialize centroids randomly."
   ]
  },
  {
   "cell_type": "code",
   "execution_count": null,
   "metadata": {},
   "outputs": [],
   "source": [
    "def initialize_centroids(X, k):\n",
    "    \"\"\"\n",
    "    Randomly initialize centroids from the dataset.\n",
    "    \n",
    "    Parameters:\n",
    "    X (numpy array): The dataset.\n",
    "    k (int): Number of clusters.\n",
    "    \n",
    "    Returns:\n",
    "    centroids (numpy array): Initialized centroids.\n",
    "    \"\"\"\n",
    "    \n",
    "    centroids = None\n",
    "\n",
    "    ########## Your code goes here ##########\n",
    "    \n",
    "    ##########################################\n",
    "\n",
    "    return centroids"
   ]
  },
  {
   "cell_type": "markdown",
   "metadata": {},
   "source": [
    "## Step 2: Compute distance \n",
    "Define the distance function in order to compute the distance from an instance to a centroid."
   ]
  },
  {
   "cell_type": "code",
   "execution_count": 4,
   "metadata": {},
   "outputs": [],
   "source": [
    "def compute_distance(point1, point2, metric='L2'):\n",
    "\n",
    "    result = None\n",
    "\n",
    "    if metric == 'L1':\n",
    "        result =  np.sum(np.abs(point1 - point2))\n",
    "    elif metric == 'L2':\n",
    "        result = np.sqrt(np.sum((point1 - point2) ** 2))\n",
    "    elif metric == 'cosine':\n",
    "        dot_product = np.dot(point1, point2)\n",
    "        norm_a = np.linalg.norm(point1)\n",
    "        norm_b = np.linalg.norm(point2)\n",
    "        result = 1 - dot_product / (norm_a * norm_b)\n",
    "    else:\n",
    "        return ValueError(\"Unsupported metric\")\n",
    "    \n",
    "    return result"
   ]
  },
  {
   "cell_type": "markdown",
   "metadata": {},
   "source": [
    "## Step 2: Assign Clusters\n",
    "Define a function to assign each data point to the nearest centroid. Use the L2 distance. "
   ]
  },
  {
   "cell_type": "code",
   "execution_count": null,
   "metadata": {},
   "outputs": [],
   "source": [
    "def assign_clusters(X, centroids, metric='L2'):\n",
    "    \"\"\"\n",
    "    Assign each data point to the nearest centroid.\n",
    "    \n",
    "    Parameters:\n",
    "    X (numpy array): The dataset.\n",
    "    centroids (numpy array): Current centroids.\n",
    "    \n",
    "    Returns:\n",
    "    idx (numpy array): Cluster assignments.\n",
    "    \"\"\"\n",
    "\n",
    "    idx = None\n",
    "\n",
    "    ########## Your code goes here ##########\n",
    "\n",
    "    #########################################\n",
    "\n",
    "    return idx"
   ]
  },
  {
   "cell_type": "markdown",
   "metadata": {},
   "source": [
    "## Step 3: Update Centroids\n",
    "Define a function to update the centroids based on cluster assignments."
   ]
  },
  {
   "cell_type": "code",
   "execution_count": null,
   "metadata": {},
   "outputs": [],
   "source": [
    "def update_centroids(X, labels, k):\n",
    "    \"\"\"\n",
    "    Update centroids as the mean of assigned points.\n",
    "    \n",
    "    Parameters:\n",
    "    X (numpy array): The dataset.\n",
    "    labels (numpy array): Cluster assignments.\n",
    "    k (int): Number of clusters.\n",
    "    \n",
    "    Returns:\n",
    "    centroids (numpy array): Updated centroids.\n",
    "    \"\"\"\n",
    "\n",
    "    centroids = None\n",
    "\n",
    "    ########## Your code goes here ##########\n",
    "\n",
    "    ##########################################\n",
    "\n",
    "    return centroids"
   ]
  },
  {
   "cell_type": "markdown",
   "metadata": {},
   "source": [
    "## Step 4: K-Means Algorithm\n",
    "Combine the above functions to complete the K-Means algorithm."
   ]
  },
  {
   "cell_type": "code",
   "execution_count": null,
   "metadata": {},
   "outputs": [],
   "source": [
    "def k_means(X, k, metric='L2', max_iters=100, eps=1e-4):\n",
    "    \"\"\"\n",
    "    Perform K-Means clustering.\n",
    "    \n",
    "    Parameters:\n",
    "    X (numpy array): The dataset.\n",
    "    k (int): Number of clusters.\n",
    "    metric (str): Distance metric \n",
    "    max_iters (int): Maximum number of iterations.\n",
    "    eps (float): Tolerance for convergence.\n",
    "    \n",
    "    Returns:\n",
    "    tuple: Final centroids and cluster assignments.\n",
    "    \"\"\"\n",
    "    centroids = initialize_centroids(X, k)\n",
    "    labels = None\n",
    "\n",
    "    for _ in range(max_iters):\n",
    "\n",
    "        ########## Your code goes here ##########\n",
    "\n",
    "\n",
    "        ##########################################\n",
    "        \n",
    "    return centroids, labels"
   ]
  },
  {
   "cell_type": "markdown",
   "metadata": {},
   "source": [
    "## Step 5: Evaluation Metrics\n",
    "### Silhouette Score"
   ]
  },
  {
   "cell_type": "code",
   "execution_count": null,
   "metadata": {},
   "outputs": [],
   "source": [
    "def compute_silhouette_score(X, labels, metric='L2'):\n",
    "    \"\"\"\n",
    "    Compute the silhouette score for the clustering.\n",
    "    \n",
    "    Parameters:\n",
    "    X (numpy array): The dataset.\n",
    "    labels (numpy array): Cluster assignments.\n",
    "    \n",
    "    Returns:\n",
    "    silhouette_score(float): Silhouette score.\n",
    "    \"\"\"\n",
    "\n",
    "    silhouette_score = None\n",
    "\n",
    "    ########## Your code goes here ##########\n",
    "\n",
    "    ##########################################\n",
    "\n",
    "    return silhouette_score"
   ]
  },
  {
   "cell_type": "markdown",
   "metadata": {},
   "source": [
    "### Dunn Index"
   ]
  },
  {
   "cell_type": "code",
   "execution_count": null,
   "metadata": {},
   "outputs": [],
   "source": [
    "def compute_dunn_index(X, labels, metric='L2'):\n",
    "    \"\"\"\n",
    "    Compute the Dunn Index for the clustering.\n",
    "\n",
    "    Parameters:\n",
    "    X (numpy array): The dataset of shape (n, d).\n",
    "    labels (numpy array): Cluster assignments of shape (n,).\n",
    "    metric (str): Distance metric ('L1', 'L2', 'cosine').\n",
    "\n",
    "    Returns:\n",
    "    dunn_index (float): Dunn Index.\n",
    "    \"\"\"\n",
    "\n",
    "    dunn_index = None\n",
    "\n",
    "    ########## Your code goes here ##########\n",
    "\n",
    "    ##########################################\n",
    "\n",
    "    return dunn_index"
   ]
  },
  {
   "cell_type": "markdown",
   "metadata": {},
   "source": [
    "## Step 6: Testing Your Implementation\n",
    "Test the K-Means algorithm and evaluation metrics on a sample dataset. Change the number of clusters in order to make more experiments. "
   ]
  },
  {
   "cell_type": "code",
   "execution_count": 11,
   "metadata": {},
   "outputs": [
    {
     "name": "stdout",
     "output_type": "stream",
     "text": [
      "Silhouette Score: 0.9092996110267082\n",
      "Dunn Index: 2.0339628425725444\n"
     ]
    },
    {
     "data": {
      "image/png": "[encoded data removed]",
      "text/plain": [
       "<Figure size 640x480 with 1 Axes>"
      ]
     },
     "metadata": {},
     "output_type": "display_data"
    }
   ],
   "source": [
    "# Run K-Means\n",
    "k = 3\n",
    "metric = 'L2'\n",
    "centroids, labels = k_means(X, k, metric)\n",
    "\n",
    "# Evaluate\n",
    "silhouette = compute_silhouette_score(X, labels, metric)\n",
    "dunn = compute_dunn_index(X, labels, metric)\n",
    "\n",
    "print(f\"Silhouette Score: {silhouette}\")\n",
    "print(f\"Dunn Index: {dunn}\")\n",
    "\n",
    "# Plot the data\n",
    "plt.scatter(X[:, 0], X[:, 1], c=labels, s=50)\n",
    "plt.scatter(centroids[:, 0], centroids[:, 1], c='red', s=100, marker='X')\n",
    "plt.title('K-Means Clustering')\n",
    "plt.xlabel('Feature 1')\n",
    "plt.ylabel('Feature 2')\n",
    "plt.show()\n"
   ]
  },
  {
   "cell_type": "code",
   "execution_count": null,
   "metadata": {},
   "outputs": [],
   "source": []
  }
 ],
 "metadata": {
  "kernelspec": {
   "display_name": "Python 3 (ipykernel)",
   "language": "python",
   "name": "python3"
  },
  "language_info": {
   "codemirror_mode": {
    "name": "ipython",
    "version": 3
   },
   "file_extension": ".py",
   "mimetype": "text/x-python",
   "name": "python",
   "nbconvert_exporter": "python",
   "pygments_lexer": "ipython3",
   "version": "3.12.7"
  }
 },
 "nbformat": 4,
 "nbformat_minor": 4
}
